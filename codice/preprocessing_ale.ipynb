{
 "cells": [
  {
   "cell_type": "code",
   "execution_count": 10,
   "metadata": {},
   "outputs": [],
   "source": [
    "from skimage.io import imread, imread_collection\n",
    "import skimage\n",
    "import matplotlib.pyplot as plt\n",
    "import os\n",
    "import glob\n",
    "import numpy as np\n"
   ]
  },
  {
   "cell_type": "markdown",
   "metadata": {},
   "source": [
    "Import train and test images as collections"
   ]
  },
  {
   "cell_type": "code",
   "execution_count": 5,
   "metadata": {},
   "outputs": [],
   "source": [
    "X_dev = imread_collection('datasets/Mammography_micro/Train', conserve_memory=False)\n",
    "X_test = imread_collection('datasets/Mammography_micro/Test', conserve_memory=False)"
   ]
  },
  {
   "cell_type": "code",
   "execution_count": 13,
   "metadata": {},
   "outputs": [
    {
     "ename": "ValueError",
     "evalue": "ImageIO does not generally support reading folders. Limited support may be available via specific plugins. Specify the plugin explicitly using the `plugin` kwarg, e.g. `plugin='DICOM'`",
     "output_type": "error",
     "traceback": [
      "\u001b[0;31m---------------------------------------------------------------------------\u001b[0m",
      "\u001b[0;31mValueError\u001b[0m                                Traceback (most recent call last)",
      "Cell \u001b[0;32mIn [13], line 1\u001b[0m\n\u001b[0;32m----> 1\u001b[0m skimage\u001b[38;5;241m.\u001b[39mio\u001b[38;5;241m.\u001b[39mimshow(\u001b[43mX_dev\u001b[49m\u001b[43m[\u001b[49m\u001b[38;5;241;43m0\u001b[39;49m\u001b[43m]\u001b[49m)\n",
      "File \u001b[0;32m/Library/Frameworks/Python.framework/Versions/3.10/lib/python3.10/site-packages/skimage/io/collection.py:294\u001b[0m, in \u001b[0;36mImageCollection.__getitem__\u001b[0;34m(self, n)\u001b[0m\n\u001b[1;32m    292\u001b[0m                 \u001b[39mraise\u001b[39;00m\n\u001b[1;32m    293\u001b[0m     \u001b[39melse\u001b[39;00m:\n\u001b[0;32m--> 294\u001b[0m         \u001b[39mself\u001b[39m\u001b[39m.\u001b[39mdata[idx] \u001b[39m=\u001b[39m \u001b[39mself\u001b[39;49m\u001b[39m.\u001b[39;49mload_func(\u001b[39mself\u001b[39;49m\u001b[39m.\u001b[39;49mfiles[n], \u001b[39m*\u001b[39;49m\u001b[39m*\u001b[39;49mkwargs)\n\u001b[1;32m    295\u001b[0m     \u001b[39mself\u001b[39m\u001b[39m.\u001b[39m_cached \u001b[39m=\u001b[39m n\n\u001b[1;32m    297\u001b[0m \u001b[39mreturn\u001b[39;00m \u001b[39mself\u001b[39m\u001b[39m.\u001b[39mdata[idx]\n",
      "File \u001b[0;32m/Library/Frameworks/Python.framework/Versions/3.10/lib/python3.10/site-packages/skimage/io/_plugins/imageio_plugin.py:15\u001b[0m, in \u001b[0;36mimread\u001b[0;34m(*args, **kwargs)\u001b[0m\n\u001b[1;32m     13\u001b[0m \u001b[39m@wraps\u001b[39m(imageio_imread)\n\u001b[1;32m     14\u001b[0m \u001b[39mdef\u001b[39;00m \u001b[39mimread\u001b[39m(\u001b[39m*\u001b[39margs, \u001b[39m*\u001b[39m\u001b[39m*\u001b[39mkwargs):\n\u001b[0;32m---> 15\u001b[0m     \u001b[39mreturn\u001b[39;00m np\u001b[39m.\u001b[39masarray(imageio_imread(\u001b[39m*\u001b[39;49margs, \u001b[39m*\u001b[39;49m\u001b[39m*\u001b[39;49mkwargs))\n",
      "File \u001b[0;32m/Library/Frameworks/Python.framework/Versions/3.10/lib/python3.10/site-packages/imageio/v2.py:226\u001b[0m, in \u001b[0;36mimread\u001b[0;34m(uri, format, **kwargs)\u001b[0m\n\u001b[1;32m    223\u001b[0m imopen_args \u001b[39m=\u001b[39m decypher_format_arg(\u001b[39mformat\u001b[39m)\n\u001b[1;32m    224\u001b[0m imopen_args[\u001b[39m\"\u001b[39m\u001b[39mlegacy_mode\u001b[39m\u001b[39m\"\u001b[39m] \u001b[39m=\u001b[39m \u001b[39mTrue\u001b[39;00m\n\u001b[0;32m--> 226\u001b[0m \u001b[39mwith\u001b[39;00m imopen(uri, \u001b[39m\"\u001b[39;49m\u001b[39mri\u001b[39;49m\u001b[39m\"\u001b[39;49m, \u001b[39m*\u001b[39;49m\u001b[39m*\u001b[39;49mimopen_args) \u001b[39mas\u001b[39;00m file:\n\u001b[1;32m    227\u001b[0m     result \u001b[39m=\u001b[39m file\u001b[39m.\u001b[39mread(index\u001b[39m=\u001b[39m\u001b[39m0\u001b[39m, \u001b[39m*\u001b[39m\u001b[39m*\u001b[39mkwargs)\n\u001b[1;32m    229\u001b[0m \u001b[39mreturn\u001b[39;00m result\n",
      "File \u001b[0;32m/Library/Frameworks/Python.framework/Versions/3.10/lib/python3.10/site-packages/imageio/core/imopen.py:235\u001b[0m, in \u001b[0;36mimopen\u001b[0;34m(uri, io_mode, plugin, extension, format_hint, legacy_mode, **kwargs)\u001b[0m\n\u001b[1;32m    229\u001b[0m     err_type \u001b[39m=\u001b[39m \u001b[39mValueError\u001b[39;00m \u001b[39mif\u001b[39;00m legacy_mode \u001b[39melse\u001b[39;00m \u001b[39mIOError\u001b[39;00m\n\u001b[1;32m    230\u001b[0m     err_msg \u001b[39m=\u001b[39m (\n\u001b[1;32m    231\u001b[0m         \u001b[39m\"\u001b[39m\u001b[39mImageIO does not generally support reading folders. \u001b[39m\u001b[39m\"\u001b[39m\n\u001b[1;32m    232\u001b[0m         \u001b[39m\"\u001b[39m\u001b[39mLimited support may be available via specific plugins. \u001b[39m\u001b[39m\"\u001b[39m\n\u001b[1;32m    233\u001b[0m         \u001b[39m\"\u001b[39m\u001b[39mSpecify the plugin explicitly using the `plugin` kwarg, e.g. `plugin=\u001b[39m\u001b[39m'\u001b[39m\u001b[39mDICOM\u001b[39m\u001b[39m'\u001b[39m\u001b[39m`\u001b[39m\u001b[39m\"\u001b[39m\n\u001b[1;32m    234\u001b[0m     )\n\u001b[0;32m--> 235\u001b[0m     \u001b[39mraise\u001b[39;00m err_type(err_msg)\n\u001b[1;32m    237\u001b[0m \u001b[39m# close the current request here and use fresh/new ones while trying each\u001b[39;00m\n\u001b[1;32m    238\u001b[0m \u001b[39m# plugin This is slow (means potentially reopening a resource several\u001b[39;00m\n\u001b[1;32m    239\u001b[0m \u001b[39m# times), but should only happen rarely because this is the fallback if all\u001b[39;00m\n\u001b[1;32m    240\u001b[0m \u001b[39m# else fails.\u001b[39;00m\n\u001b[1;32m    241\u001b[0m request\u001b[39m.\u001b[39mfinish()\n",
      "\u001b[0;31mValueError\u001b[0m: ImageIO does not generally support reading folders. Limited support may be available via specific plugins. Specify the plugin explicitly using the `plugin` kwarg, e.g. `plugin='DICOM'`"
     ]
    }
   ],
   "source": [
    "skimage.io.imshow(X_dev[0])"
   ]
  }
 ],
 "metadata": {
  "kernelspec": {
   "display_name": "Python 3.10.1 64-bit",
   "language": "python",
   "name": "python3"
  },
  "language_info": {
   "codemirror_mode": {
    "name": "ipython",
    "version": 3
   },
   "file_extension": ".py",
   "mimetype": "text/x-python",
   "name": "python",
   "nbconvert_exporter": "python",
   "pygments_lexer": "ipython3",
   "version": "3.10.1 (v3.10.1:2cd268a3a9, Dec  6 2021, 14:28:59) [Clang 13.0.0 (clang-1300.0.29.3)]"
  },
  "orig_nbformat": 4,
  "vscode": {
   "interpreter": {
    "hash": "aee8b7b246df8f9039afb4144a1f6fd8d2ca17a180786b69acc140d282b71a49"
   }
  }
 },
 "nbformat": 4,
 "nbformat_minor": 2
}
